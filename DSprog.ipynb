{
 "cells": [
  {
   "cell_type": "code",
   "execution_count": 123,
   "metadata": {},
   "outputs": [],
   "source": [
    "import requests\n",
    "from bs4 import BeautifulSoup\n",
    "from selenium import webdriver\n",
    "from selenium.webdriver.support.ui import Select\n",
    "from selenium.webdriver.common.by import By\n",
    "import time\n",
    "import sqlite3\n",
    "import pandas as pd\n",
    "import matplotlib.pyplot as plt\n",
    "import seaborn as sns\n",
    "import numpy as np"
   ]
  },
  {
   "cell_type": "code",
   "execution_count": 124,
   "metadata": {},
   "outputs": [],
   "source": [
    "class JobScraper:\n",
    "    def __init__(self, db_name='jobs.db'):\n",
    "        self.db_name = db_name\n",
    "        self.conn = sqlite3.connect(self.db_name)\n",
    "        self.cursor = self.conn.cursor()\n",
    "        self.create_table()\n",
    "    \n",
    "    def drop_table(self):\n",
    "        self.cursor.execute('DROP TABLE IF EXISTS Job')\n",
    "        self.conn.commit()\n",
    "\n",
    "    def create_table(self):\n",
    "        self.drop_table()\n",
    "        self.cursor.execute('''\n",
    "        CREATE TABLE Job (\n",
    "            id INTEGER PRIMARY KEY AUTOINCREMENT,\n",
    "            name TEXT,\n",
    "            salary TEXT,\n",
    "            location TEXT\n",
    "        )\n",
    "        ''')\n",
    "        self.conn.commit()\n",
    "\n",
    "    def insert_job(self, name, salary, location):\n",
    "        self.cursor.execute('''\n",
    "        INSERT INTO Job (name, salary, location)\n",
    "        VALUES (?, ?, ?)\n",
    "        ''', (name, salary, location))\n",
    "        self.conn.commit()\n",
    "\n",
    "    def close_db(self):\n",
    "        self.conn.close()\n",
    "\n",
    "    def fetch_jobs(self, location):\n",
    "        self.cursor.execute('SELECT name, salary FROM Job WHERE location=?', (location,))\n",
    "        return self.cursor.fetchall()\n",
    "\n",
    "    def scrape_jobs(self, url, prefecture_code, city_code, location_name):\n",
    "        driver = webdriver.Chrome()\n",
    "        driver.get(url)\n",
    "        time.sleep(1)\n",
    "\n",
    "        driver.find_element(By.CLASS_NAME, \"retrieval_icn\").click()\n",
    "        time.sleep(1)\n",
    "\n",
    "        element = driver.find_element(By.ID, \"ID_tDFK1CmbBox\")\n",
    "        Select(element).select_by_value(prefecture_code)\n",
    "        time.sleep(1)\n",
    "\n",
    "        driver.find_element(By.ID, \"ID_Btn\").click()\n",
    "        time.sleep(1)\n",
    "\n",
    "        element = driver.find_element(By.ID, \"ID_rank1CodeMulti\")\n",
    "        Select(element).select_by_value(city_code)\n",
    "        time.sleep(1)\n",
    "\n",
    "        driver.find_element(By.ID, \"ID_ok\").click()\n",
    "        time.sleep(1)\n",
    "\n",
    "        driver.find_element(By.ID, \"ID_searchBtn\").click()\n",
    "        time.sleep(1)\n",
    "\n",
    "        soup = BeautifulSoup(driver.page_source, \"html.parser\")\n",
    "        jobs = soup.find_all(\"table\", attrs={\"class\": \"kyujin\"})[1::]\n",
    "\n",
    "        for job in jobs:\n",
    "            job_name = str(job.find(\"td\", attrs={\"class\": \"m13\"}).text.strip())\n",
    "            salary_tags = job.find_all(\"tr\", attrs={\"class\": \"border_new\"})[5].select(\".disp_inline_block\")\n",
    "            job_salary = \"\"\n",
    "            for salary_tag in salary_tags:\n",
    "                job_salary = salary_tag.text\n",
    "            self.insert_job(job_name, job_salary, location_name)\n",
    "\n",
    "        driver.close()"
   ]
  },
  {
   "cell_type": "code",
   "execution_count": 125,
   "metadata": {},
   "outputs": [],
   "source": [
    "scraper = JobScraper()\n",
    "url = \"https://www.hellowork.mhlw.go.jp/\""
   ]
  },
  {
   "cell_type": "code",
   "execution_count": 126,
   "metadata": {},
   "outputs": [],
   "source": [
    "# 東京都千代田区の求人情報をスクレイピングして保存\n",
    "scraper.scrape_jobs(url, '13', '13101', '東京都千代田区')"
   ]
  },
  {
   "cell_type": "code",
   "execution_count": 127,
   "metadata": {},
   "outputs": [],
   "source": [
    "# 福岡県北九州市門司区の求人情報をスクレイピングして保存\n",
    "scraper.scrape_jobs(url, '40', '40101', '福岡県北九州市門司区')"
   ]
  },
  {
   "cell_type": "code",
   "execution_count": 128,
   "metadata": {},
   "outputs": [
    {
     "name": "stdout",
     "output_type": "stream",
     "text": [
      "東京都千代田区の求人情報:\n",
      "■期間業務職員（一般事務・企画担当、財政運営基本担当） （  ）\n",
      "■一般事務補助（期間業務職員）／国土政策局　地方政策課 （  ）\n",
      "■一般事務（期間業務職員）（企画担当） （  ）\n",
      "■【秘書課】臨時事務補助職員（フルタイム）４月採用 （  ）\n",
      "■編集部員 （ 270,000円〜378,000円 ）\n",
      "■設備管理業務／千代田区麹町／未経験者歓迎 （ 240,000円〜240,000円 ）\n",
      "■運送会社向けＩＴツール開発（ＳＥ） （ 250,000円〜500,000円 ）\n",
      "■ＪＡＶＡ（ＳＥ）エンジニア （ 300,000円〜650,000円 ）\n",
      "■建築原価管理システム開発（ＳＥ） （ 250,000円〜500,000円 ）\n",
      "■テスト評価技術者 （ 200,000円〜260,000円 ）\n",
      "■ストレスチェックシステム開発（ＳＥ） （ 250,000円〜500,000円 ）\n",
      "■一般事務（期間業務職員）（総括担当） （  ）\n",
      "■車載機向けナビゲーション開発（ＳＥ） （ 250,000円〜500,000円 ）\n",
      "■医療関係システム開発（ＳＥ） （ 250,000円〜500,000円 ）\n",
      "■営業（広告）※一から丁寧に育成します （ 280,000円〜308,000円 ）\n",
      "■電子作業記録システム開発（ＳＥ） （ 250,000円〜500,000円 ）\n",
      "■顧客情報承認管理システム開発（ＳＥ） （ 250,000円〜500,000円 ）\n",
      "■工業用ミシン組込システム開発（ＳＥ） （ 250,000円〜500,000円 ）\n",
      "■政策調査員（非常勤）／消費者制度課 （ 1,826円〜3,008円 ）\n",
      "■経理職（中堅） （ 250,000円〜400,000円 ）\n",
      "■総務事務員【経験不問】 （ 220,000円〜250,000円 ）\n",
      "■営業（直行直帰）：首都圏、大阪、広島、福岡 （ 250,000円〜300,000円 ）\n",
      "■人材情報活用システム開発（ＳＥ） （ 250,000円〜500,000円 ）\n",
      "■サービス管理用アプリケーション開発（ＳＥ） （ 250,000円〜500,000円 ）\n",
      "■薬局物流システム開発（ＳＥ） （ 250,000円〜500,000円 ）\n",
      "■外資系生保向けシステム開発（ＳＥ） （ 250,000円〜500,000円 ）\n",
      "■営業職（管理職候補） （ 250,000円〜450,000円 ）\n",
      "■総務職（管理職候補） （ 250,000円〜400,000円 ）\n",
      "■清掃スタッフ（４ｈ）／千代田区神田小川町 （ 1,300円〜1,300円 ）\n"
     ]
    }
   ],
   "source": [
    "# 東京都千代田区の求人情報を取得して表示\n",
    "tokyo_jobs = scraper.fetch_jobs('東京都千代田区')\n",
    "print(\"東京都千代田区の求人情報:\")\n",
    "for job in tokyo_jobs:\n",
    "    print(f\"■{job[0]} （ {job[1]} ）\")"
   ]
  },
  {
   "cell_type": "code",
   "execution_count": 129,
   "metadata": {},
   "outputs": [
    {
     "name": "stdout",
     "output_type": "stream",
     "text": [
      "福岡県北九州市門司区の求人情報:\n",
      "■クリーンスタッフ／（門司／鳥巣病院） （  ）\n",
      "■施設警備／北九州市門司区 （  ）\n",
      "■機能訓練指導員／社ノ木デイサービスセンター （ 266,000円〜284,000円 ）\n",
      "■清掃スタッフ／門司区／パート （ 1,010円〜1,010円 ）\n",
      "■ガソリンスタンド責任者候補【業界未経験者可】 （ 340,000円〜340,000円 ）\n",
      "■美容師／門司区 （ 210,000円〜323,500円 ）\n",
      "■銅管製品製造・機械オペ　２交替／門司区 （ 232,500円〜232,500円 ）\n",
      "■３月まで短期　印刷物の仕込み作業／門司区 （ 69,000円〜161,000円 ）\n",
      "■ヤクルトスタッフ（雇用タイプ） （  ）\n",
      "■清掃／門司区 （ 1,000円〜1,000円 ）\n",
      "■夜間勤務専門介護職員／（門司区）共同生活援助事業所えん （ 1,300円〜1,500円 ）\n",
      "■運転業務／兼業可 （ 1,000円〜1,200円 ）\n",
      "■一般事務・営業事務（正社員） （ 180,000円〜280,000円 ）\n",
      "■医療事務／準社員 （  ）\n",
      "■業務推進・管理業務（正社員） （ 270,000円〜280,000円 ）\n",
      "■登録ヘルパー／ふれんどヘルパーステーション （ 1,200円〜1,700円 ）\n",
      "■看護職員／ふれんどケアセンター （ 1,250円〜1,350円 ）\n",
      "■介護職員／ふれんどケアセンター （ 1,190円〜1,435円 ）\n",
      "■介護職員／ふれんどケアセンター永黒 （ 1,190円〜1,435円 ）\n",
      "■医療事務 （ 1,200円〜1,500円 ）\n",
      "■調剤事務／柳原町／パート （ 1,000円〜1,000円 ）\n",
      "■トレーラー運転手（北九州営業所） （ 388,800円〜388,800円 ）\n",
      "■総合職（土木技術サポーター）（正）／北九州市 （ 242,800円〜439,720円 ）\n",
      "■総合職（空調衛生設備技術サポーター）（正）／北九州市 （ 242,800円〜429,825円 ）\n",
      "■施工図作成スタッフ（正）／北九州市 （ 192,000円〜315,000円 ）\n",
      "■製造工場内作業員 （ 1,100円〜1,150円 ）\n",
      "■総務事務員／正社員　《急募》 （ 190,000円〜210,000円 ）\n",
      "■一般作業員／パート （ 1,000円〜1,000円 ）\n",
      "■その他の施設介護の職員 （ 1,200円〜1,250円 ）\n"
     ]
    }
   ],
   "source": [
    "# 福岡県北九州市門司区の求人情報を取得して表示\n",
    "kitakyushu_jobs = scraper.fetch_jobs('福岡県北九州市門司区')\n",
    "print(\"福岡県北九州市門司区の求人情報:\")\n",
    "for job in kitakyushu_jobs:\n",
    "    print(f\"■{job[0]} （ {job[1]} ）\")"
   ]
  },
  {
   "cell_type": "code",
   "execution_count": 130,
   "metadata": {},
   "outputs": [],
   "source": [
    "# 東京都千代田区の求人データ\n",
    "tokyo_jobs = [\n",
    "    (\"期間業務職員（一般事務・企画担当、財政運営基本担当）\", \"\"),\n",
    "    (\"一般事務補助（期間業務職員）／国土政策局 地方政策課\", \"\"),\n",
    "    (\"一般事務（期間業務職員）（企画担当）\", \"\"),\n",
    "    (\"【秘書課】臨時事務補助職員（フルタイム）４月採用\", \"\"),\n",
    "    (\"編集部員\", \"270,000円~378,000円\"),\n",
    "    (\"設備管理業務／千代田区麹町／未経験者歓迎\", \"240,000円~240,000円\"),\n",
    "    (\"運送会社向けＩＴツール開発（ＳＥ）\", \"250,000円~500,000円\"),\n",
    "    (\"ＪＡＶＡ（ＳＥ）エンジニア\", \"300,000円~650,000円\"),\n",
    "    (\"建築原価管理システム開発（ＳＥ）\", \"250,000円~500,000円\"),\n",
    "    (\"テスト評価技術者\", \"200,000円~260,000円\"),\n",
    "    (\"ストレスチェックシステム開発（ＳＥ）\", \"250,000円~500,000円\"),\n",
    "    (\"一般事務（期間業務職員）（総括担当）\", \"\"),\n",
    "    (\"車載機向けナビゲーション開発（ＳＥ）\", \"250,000円~500,000円\"),\n",
    "    (\"医療関係システム開発（ＳＥ）\", \"250,000円~500,000円\"),\n",
    "    (\"営業（広告）※一から丁寧に育成します\", \"280,000円~308,000円\"),\n",
    "    (\"電子作業記録システム開発（ＳＥ）\", \"250,000円~500,000円\"),\n",
    "    (\"顧客情報承認管理システム開発（ＳＥ）\", \"250,000円~500,000円\"),\n",
    "    (\"工業用ミシン組込システム開発（ＳＥ）\", \"250,000円~500,000円\"),\n",
    "    (\"政策調査員（非常勤）／消費者制度課\", \"1,826円~3,008円\"),\n",
    "    (\"経理職（中堅）\", \"250,000円~400,000円\"),\n",
    "    (\"総務事務員【経験不問】\", \"220,000円~250,000円\"),\n",
    "    (\"営業（直行直帰）：首都圏、大阪、広島、福岡\", \"250,000円~300,000円\"),\n",
    "    (\"人材情報活用システム開発（ＳＥ）\", \"250,000円~500,000円\"),\n",
    "    (\"サービス管理用アプリケーション開発（ＳＥ）\", \"250,000円~500,000円\"),\n",
    "    (\"外資系生保向けシステム開発（ＳＥ）\", \"250,000円~500,000円\"),\n",
    "    (\"営業職（管理職候補）\", \"250,000円~450,000円\"),\n",
    "    (\"総務職（管理職候補）\", \"250,000円~400,000円\"),\n",
    "    (\"清掃スタッフ（４ｈ）／千代田区神田小川町\", \"1,300円~1,300円\")\n",
    "]\n",
    "\n",
    "# 福岡県北九州市門司区の求人データ\n",
    "kitakyushu_jobs = [\n",
    "    (\"施設警備／北九州市門司区\", \"\"),\n",
    "    (\"機能訓練指導員／社ノ木デイサービスセンター\", \"266,000円~284,000円\"),\n",
    "    (\"清掃スタッフ／門司区／パート\", \"1,010円~1,010円\"),\n",
    "    (\"ガソリンスタンド責任者候補【業界未経験者可】\", \"340,000円~340,000円\"),\n",
    "    (\"美容師／門司区\", \"210,000円~323,500円\"),\n",
    "    (\"銅管製品製造・機械オペ ２交替／門司区\", \"232,500円~232,500円\"),\n",
    "    (\"３月まで短期 印刷物の仕込み作業／門司区\", \"69,000円~161,000円\"),\n",
    "    (\"ヤクルトスタッフ（雇用タイプ）\", \"\"),\n",
    "    (\"清掃／門司区\", \"1,000円~1,000円\"),\n",
    "    (\"夜間勤務専門介護職員／（門司区）共同生活援助事業所えん\", \"1,300円~1,500円\"),\n",
    "    (\"運転業務／兼業可\", \"1,000円~1,200円\"),\n",
    "    (\"一般事務・営業事務（正社員）\", \"180,000円~280,000円\"),\n",
    "    (\"医療事務／準社員\", \"\"),\n",
    "    (\"業務推進・管理業務（正社員）\", \"270,000円~280,000円\"),\n",
    "    (\"登録ヘルパー／ふれんどヘルパーステーション\", \"1,200円~1,700円\"),\n",
    "    (\"看護職員／ふれんどケアセンター\", \"1,250円~1,350円\"),\n",
    "    (\"介護職員／ふれんどケアセンター\", \"1,190円~1,435円\"),\n",
    "    (\"介護職員／ふれんどケアセンター永黒\", \"1,190円~1,435円\"),\n",
    "    (\"医療事務\", \"1,200円~1,500円\"),\n",
    "    (\"調剤事務／柳原町／パート\", \"1,000円~1,000円\"),\n",
    "    (\"トレーラー運転手（北九州営業所）\", \"388,800円~388,800円\"),\n",
    "    (\"総合職（土木技術サポーター）（正）／北九州市\", \"242,800円~439,720円\"),\n",
    "    (\"総合職（空調衛生設備技術サポーター）（正）／北九州市\", \"242,800円~429,825円\"),\n",
    "    (\"施工図作成スタッフ（正）／北九州市\", \"192,000円~315,000円\"),\n",
    "    (\"総務事務員／正社員 《急募》\", \"190,000円~210,000円\"),\n",
    "    (\"一般作業員／パート\", \"1,000円~1,000円\"),\n",
    "    (\"その他の施設介護の職員\", \"1,200円~1,250円\"),\n",
    "    (\"販売員／海峡プラザ内《急募》\", \"1,100円~1,100円\")\n",
    "]\n"
   ]
  },
  {
   "cell_type": "code",
   "execution_count": 131,
   "metadata": {},
   "outputs": [],
   "source": [
    "#データフレームに変換\n",
    "tokyo_df = pd.DataFrame(tokyo_jobs, columns=['Name', 'Salary'])\n",
    "tokyo_df['Location'] = 'Chiyoda Ward'\n",
    "\n",
    "kitakyushu_df = pd.DataFrame(kitakyushu_jobs, columns=['Name', 'Salary'])\n",
    "kitakyushu_df['Location'] = 'Moji Ward'"
   ]
  },
  {
   "cell_type": "code",
   "execution_count": 132,
   "metadata": {},
   "outputs": [],
   "source": [
    "# データフレームを結合\n",
    "jobs_df = pd.concat([tokyo_df, kitakyushu_df], ignore_index=True)"
   ]
  },
  {
   "cell_type": "code",
   "execution_count": 133,
   "metadata": {},
   "outputs": [],
   "source": [
    "# 給与データを数値に変換\n",
    "jobs_df['Salary'] = jobs_df['Salary'].str.replace('円', '', regex=False)\n",
    "jobs_df['Salary'] = jobs_df['Salary'].str.replace(',', '', regex=False)\n",
    "jobs_df['Salary'] = jobs_df['Salary'].str.split('~').str[0].str.strip()\n",
    "jobs_df['Salary'] = pd.to_numeric(jobs_df['Salary'], errors='coerce')"
   ]
  },
  {
   "cell_type": "code",
   "execution_count": 134,
   "metadata": {},
   "outputs": [],
   "source": [
    "# 給与がNaNの行を削除\n",
    "jobs_df = jobs_df.dropna(subset=['Salary'])"
   ]
  },
  {
   "cell_type": "code",
   "execution_count": 135,
   "metadata": {},
   "outputs": [
    {
     "name": "stdout",
     "output_type": "stream",
     "text": [
      "                   Name    Salary      Location\n",
      "4                  編集部員  270000.0  Chiyoda Ward\n",
      "5  設備管理業務／千代田区麹町／未経験者歓迎  240000.0  Chiyoda Ward\n",
      "6     運送会社向けＩＴツール開発（ＳＥ）  250000.0  Chiyoda Ward\n",
      "7         ＪＡＶＡ（ＳＥ）エンジニア  300000.0  Chiyoda Ward\n",
      "8      建築原価管理システム開発（ＳＥ）  250000.0  Chiyoda Ward\n"
     ]
    }
   ],
   "source": [
    "# データの内容を表示して確認\n",
    "print(jobs_df.head())"
   ]
  },
  {
   "cell_type": "code",
   "execution_count": 136,
   "metadata": {},
   "outputs": [],
   "source": [
    "# 給与データがゼロの行を除外する\n",
    "jobs_df = jobs_df[jobs_df['Salary'] > 0]"
   ]
  },
  {
   "cell_type": "code",
   "execution_count": 137,
   "metadata": {},
   "outputs": [],
   "source": [
    "# 給与が0または極端に低いデータを除外する\n",
    "jobs_df = jobs_df[jobs_df['Salary'] > 10000]"
   ]
  },
  {
   "cell_type": "code",
   "execution_count": 138,
   "metadata": {},
   "outputs": [],
   "source": [
    "# 給与データをログ変換\n",
    "jobs_df['Log Salary'] = np.log(jobs_df['Salary'])"
   ]
  },
  {
   "cell_type": "code",
   "execution_count": 139,
   "metadata": {},
   "outputs": [
    {
     "data": {
      "image/png": "[encoded data removed]",
      "text/plain": [
       "<Figure size 1200x800 with 1 Axes>"
      ]
     },
     "metadata": {},
     "output_type": "display_data"
    }
   ],
   "source": [
    "# データを視覚化する\n",
    "plt.figure(figsize=(12, 8))\n",
    "sns.boxplot(x='Location', y='Salary', data=jobs_df)\n",
    "plt.title('Salary Comparison')\n",
    "plt.xlabel('Location')  \n",
    "plt.ylabel('Salary')   \n",
    "plt.show()"
   ]
  },
  {
   "cell_type": "code",
   "execution_count": 140,
   "metadata": {},
   "outputs": [],
   "source": [
    "scraper.close_db()"
   ]
  }
 ],
 "metadata": {
  "kernelspec": {
   "display_name": "venv",
   "language": "python",
   "name": "python3"
  },
  "language_info": {
   "codemirror_mode": {
    "name": "ipython",
    "version": 3
   },
   "file_extension": ".py",
   "mimetype": "text/x-python",
   "name": "python",
   "nbconvert_exporter": "python",
   "pygments_lexer": "ipython3",
   "version": "3.12.7"
  }
 },
 "nbformat": 4,
 "nbformat_minor": 2
}
